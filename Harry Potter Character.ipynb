{
 "cells": [
  {
   "cell_type": "code",
   "execution_count": 6,
   "id": "3b34c7b4",
   "metadata": {},
   "outputs": [
    {
     "name": "stdout",
     "output_type": "stream",
     "text": [
      "Enter your personality traits (separated by spaces): brave funny\n",
      "You are: Ron Weasley\n"
     ]
    }
   ],
   "source": [
    "import pandas as pd\n",
    "from sklearn.feature_extraction.text import TfidfVectorizer\n",
    "from sklearn.metrics.pairwise import cosine_similarity\n",
    "\n",
    "# Load the dataset of Harry Potter character traits\n",
    "data = pd.read_csv('harry_potter_characters.csv')\n",
    "\n",
    "# Preprocess the dataset\n",
    "tfidf = TfidfVectorizer(stop_words='english')\n",
    "tfidf_matrix = tfidf.fit_transform(data['Traits'].values.astype('U'))\n",
    "\n",
    "# User input\n",
    "user_input = input(\"Enter your personality traits (separated by spaces): \")\n",
    "\n",
    "# Function to determine the character based on user input\n",
    "def get_harry_potter_character(user_input):\n",
    "    # Transform user input into a feature vector\n",
    "    user_vector = tfidf.transform([user_input])\n",
    "\n",
    "    # Calculate cosine similarity between user input and character traits\n",
    "    similarity_scores = cosine_similarity(user_vector, tfidf_matrix)\n",
    "\n",
    "    # Find the character with the highest similarity score\n",
    "    character_index = similarity_scores.argmax()\n",
    "    character = data['Character'][character_index]\n",
    "\n",
    "    return character\n",
    "\n",
    "character = get_harry_potter_character(user_input)\n",
    "print(\"You are:\", character)"
   ]
  },
  {
   "cell_type": "code",
   "execution_count": null,
   "id": "a101b9be",
   "metadata": {},
   "outputs": [],
   "source": []
  }
 ],
 "metadata": {
  "kernelspec": {
   "display_name": "Python 3 (ipykernel)",
   "language": "python",
   "name": "python3"
  },
  "language_info": {
   "codemirror_mode": {
    "name": "ipython",
    "version": 3
   },
   "file_extension": ".py",
   "mimetype": "text/x-python",
   "name": "python",
   "nbconvert_exporter": "python",
   "pygments_lexer": "ipython3",
   "version": "3.10.9"
  }
 },
 "nbformat": 4,
 "nbformat_minor": 5
}
